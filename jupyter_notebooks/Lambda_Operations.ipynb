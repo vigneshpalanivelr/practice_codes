{
 "cells": [
  {
   "cell_type": "markdown",
   "metadata": {
    "toc": true
   },
   "source": [
    "<h1>Table of Contents<span class=\"tocSkip\"></span></h1>\n",
    "<div class=\"toc\"><ul class=\"toc-item\"><li><span><a href=\"#EC2-Instance-Stop\" data-toc-modified-id=\"EC2-Instance-Stop-1\"><span class=\"toc-item-num\">1&nbsp;&nbsp;</span>EC2 Instance Stop</a></span></li><li><span><a href=\"#EC2-Snapshots-Deletion\" data-toc-modified-id=\"EC2-Snapshots-Deletion-2\"><span class=\"toc-item-num\">2&nbsp;&nbsp;</span>EC2 Snapshots Deletion</a></span></li></ul></div>"
   ]
  },
  {
   "cell_type": "markdown",
   "metadata": {},
   "source": [
    "# EC2 Instance Stop"
   ]
  },
  {
   "cell_type": "code",
   "execution_count": 1,
   "metadata": {
    "ExecuteTime": {
     "end_time": "2020-05-23T11:59:10.085985Z",
     "start_time": "2020-05-23T11:59:10.059983Z"
    }
   },
   "outputs": [
    {
     "name": "stdout",
     "output_type": "stream",
     "text": [
      "env: region=ap-south-1\n"
     ]
    }
   ],
   "source": [
    "'''Load Environment Variables'''\n",
    "%env region=ap-south-1"
   ]
  },
  {
   "cell_type": "code",
   "execution_count": 2,
   "metadata": {
    "ExecuteTime": {
     "end_time": "2020-05-23T11:59:10.471007Z",
     "start_time": "2020-05-23T11:59:10.462006Z"
    }
   },
   "outputs": [],
   "source": [
    "import logging"
   ]
  },
  {
   "cell_type": "code",
   "execution_count": 16,
   "metadata": {
    "ExecuteTime": {
     "end_time": "2020-05-30T06:00:06.325093Z",
     "start_time": "2020-05-30T06:00:06.279090Z"
    }
   },
   "outputs": [
    {
     "name": "stderr",
     "output_type": "stream",
     "text": [
      "[2020-05-30 11:30:06 India Standard Time] - INFO - Today\"s Date                : 2020-05-30 11:30:06.312092+05:30\n"
     ]
    }
   ],
   "source": [
    "#!/usr/bin/python\n",
    "'''\n",
    "References:\n",
    "1) JSON Role Policy : lambda_deployer_role : https://marcelog.github.io/articles/aws_lambda_start_stop_ec2_instance.html\n",
    "2) Logging Hadler   : Re-Invent            : https://gist.github.com/niranjv/fb95e716151642e8ca553b0e38dd152e\n",
    "3) Lambda Issue VPC : Can't connect to ISP : https://docs.aws.amazon.com/lambda/latest/dg/configuration-vpc.html#vpc-internet\n",
    "'''\n",
    "import os\n",
    "import sys\n",
    "import time\n",
    "import json\n",
    "import boto3\n",
    "import datetime\n",
    "\n",
    "'''importing custom modules'''\n",
    "'''Jupyter Notebook - Log file'''\n",
    "# sys.path.append(os.path.dirname(os.path.realpath(__file__)) + '/pySetenv/variables/' )\n",
    "# sys.path.append(os.path.dirname(os.path.realpath(__file__)) + '/pySetenv/packages/'  )\n",
    "\n",
    "# import lambda_logger\n",
    "# logger = lambda_logger.setup_lambda_logger()\n",
    "\n",
    "'''Jupyter Notebook - Log file'''\n",
    "# sys.path.append(os.path.dirname('C:\\\\Users\\\\Vignesh_Palanivel\\\\Google Drive\\\\Jupyter Notebooks\\\\pySetenv\\\\'))\n",
    "# print (sys.path)\n",
    "\n",
    "# import logger\n",
    "# execLogger  = 'rti-upload-download' + time.strftime('-%Y-%m-%d-%Hh-%Mm-%Ss-%Z') + '.log'\n",
    "# logger      = logger.setupLogger('Stop Instances Logger', execLogger)\n",
    "'''Jupyter Notebook - Stream'''\n",
    "logger = logging.getLogger()\n",
    "logger.setLevel(logging.INFO)\n",
    "logging.basicConfig(format='[%(asctime)s] - %(levelname)s - %(message)s', datefmt='%Y-%m-%d %H:%M:%S %Z')\n",
    "\n",
    "today_date      = datetime.datetime.now(datetime.timezone.utc).astimezone(gettz(\"Asia/Kolkata\"))\n",
    "logger.info('Today\"s Date                : {}'.format(today_date))\n",
    "\n",
    "def json_serial(dt_object):\n",
    "    '''\n",
    "    Function to convert the datatime object to string object(ios format)\n",
    "    \n",
    "    Arguments:\n",
    "        dt_object (dataetime) : Datetime object \n",
    "    Returns:\n",
    "        iso format datetime(String)\n",
    "    '''\n",
    "    if isinstance(dt_object, (datetime.date, datetime.datetime)):\n",
    "        return dt_object.isoformat()\n",
    "\n",
    "def describe_instance(ec2_client, filter):\n",
    "    '''\n",
    "    Function to Describe the EC2 instance and Filter instances based on the filter condition passed\n",
    "    \n",
    "    Arguments:\n",
    "        ec2_client (ec2 client) : EC2 Client object\n",
    "        filter     (List)       : List of dictionary with Filter values\n",
    "    Returns:\n",
    "        List of Instance IDs\n",
    "    '''\n",
    "    describe_instances    = ec2_client.describe_instances(Filters= filter)\n",
    "    instance_id_list      = [instance['InstanceId'] for reservations in describe_instances['Reservations'] for instance in reservations['Instances']]\n",
    "    # logger.info(instance_id_list)\n",
    "    return instance_id_list\n",
    "\n",
    "''' Main Function'''\n",
    "def stop_instance(event, lambda_context):\n",
    "    '''\n",
    "    Function to Stop the Ec2 Instances\n",
    "    \n",
    "    Arguments:\n",
    "        event          (None) : No Events Required\n",
    "        lambda_context (None) : No Context Required\n",
    "    Actions:\n",
    "        Stopping the instances received from describe_instance function\n",
    "    \n",
    "    Calling Function:\n",
    "        describe_instance (To get the list of filtered instances)\n",
    "        json_serial       (to process output from describe_instance)\n",
    "    '''\n",
    "    \n",
    "    '''Reading Environment Variables'''\n",
    "    # logger.info('ENVIRONMENT VARIABLES')\n",
    "    # logger.info(os.environ)\n",
    "    region = os.environ['region']\n",
    "    logger.info('ENV - Region                  : {}'.format(region))\n",
    "\n",
    "    '''Initializing all necessory variables'''\n",
    "    print('\\n')\n",
    "    logger.info('Initializing boto3 client     :  EC2')\n",
    "    ec2_client                = boto3.client('ec2', region_name=region)\n",
    "    \n",
    "    ec2_stop_instances_waiter = ec2_client.get_waiter('instance_stopped')\n",
    "    filter_running_instance   = [{ 'Name'   : 'instance-state-name', 'Values' : ['pending','running']},\n",
    "                                 { 'Name'   : 'tag:Scheduled',       'Values' : ['True']}]\n",
    "    filter_stopped_instance   = [{ 'Name'   : 'instance-state-name', 'Values' : ['stopped']}]\n",
    "    \n",
    "    logger.info('Fetching Running EC2 instance Details')\n",
    "    instance_id_list = describe_instance(ec2_client, filter_running_instance)\n",
    "    \n",
    "    if instance_id_list:\n",
    "        try: \n",
    "            logger.info('Stopping Instance(s)          : {} ...'.format(instance_id_list))\n",
    "            stop_trigger   = ec2_client.stop_instances(InstanceIds = instance_id_list)\n",
    "            if stop_trigger['ResponseMetadata']['HTTPStatusCode'] == 200:\n",
    "                logger.info(json.dumps(stop_trigger['StoppingInstances'], indent=4, separators=(',', ': '), default=json_serial))\n",
    "            ec2_stop_instances_waiter.wait(Filters=filter_stopped_instance)\n",
    "            logger.info('Stopped Instance(s)           : {}'.format(instance_id_list))\n",
    "            logger.info('# Lambda Function status      : Completed #\\n\\n')\n",
    "        except Exception as Error:\n",
    "            logger.error('%s' %Error)\n",
    "            logger.error('Failure in Stopping Instance : {} !!!'.format(instance_id_list))\n",
    "            logger.error('# Lambda Function status     : Failed #\\n\\n')\n",
    "    else:\n",
    "        logger.warning('No instance is in Running State')\n",
    "        logger.warning('# Lambda Function status   : None #\\n\\n')"
   ]
  },
  {
   "cell_type": "code",
   "execution_count": 8,
   "metadata": {
    "ExecuteTime": {
     "end_time": "2020-05-23T12:04:10.950193Z",
     "start_time": "2020-05-23T12:03:54.344244Z"
    },
    "scrolled": false
   },
   "outputs": [
    {
     "name": "stderr",
     "output_type": "stream",
     "text": [
      "[2020-05-23 17:33:54 India Standard Time] - INFO - Initializing boto3 client -  EC2\n",
      "[2020-05-23 17:33:54 India Standard Time] - INFO - Fetching Running EC2 instance Details\n"
     ]
    },
    {
     "name": "stdout",
     "output_type": "stream",
     "text": [
      "\n",
      "\n"
     ]
    },
    {
     "name": "stderr",
     "output_type": "stream",
     "text": [
      "[2020-05-23 17:33:55 India Standard Time] - INFO - Stopping Instance(s) : ['i-09adf316ecee00468', 'i-077007a2fb8930489'] ...\n",
      "[2020-05-23 17:33:55 India Standard Time] - INFO - [\n",
      "    {\n",
      "        \"CurrentState\": {\n",
      "            \"Code\": 64,\n",
      "            \"Name\": \"stopping\"\n",
      "        },\n",
      "        \"InstanceId\": \"i-077007a2fb8930489\",\n",
      "        \"PreviousState\": {\n",
      "            \"Code\": 16,\n",
      "            \"Name\": \"running\"\n",
      "        }\n",
      "    },\n",
      "    {\n",
      "        \"CurrentState\": {\n",
      "            \"Code\": 64,\n",
      "            \"Name\": \"stopping\"\n",
      "        },\n",
      "        \"InstanceId\": \"i-09adf316ecee00468\",\n",
      "        \"PreviousState\": {\n",
      "            \"Code\": 16,\n",
      "            \"Name\": \"running\"\n",
      "        }\n",
      "    }\n",
      "]\n",
      "[2020-05-23 17:34:10 India Standard Time] - INFO - Stopped Instance(s) : ['i-09adf316ecee00468', 'i-077007a2fb8930489']\n",
      "[2020-05-23 17:34:10 India Standard Time] - INFO - # Lambda Function status : Completed #\n",
      "\n",
      "\n"
     ]
    }
   ],
   "source": [
    "'''Instances in Running state'''\n",
    "stop_instance(None, None)"
   ]
  },
  {
   "cell_type": "code",
   "execution_count": 17,
   "metadata": {
    "ExecuteTime": {
     "end_time": "2020-05-30T06:00:12.432838Z",
     "start_time": "2020-05-30T06:00:11.856806Z"
    }
   },
   "outputs": [
    {
     "name": "stderr",
     "output_type": "stream",
     "text": [
      "[2020-05-30 11:30:11 India Standard Time] - INFO - ENV - Region                  : ap-south-1\n",
      "[2020-05-30 11:30:11 India Standard Time] - INFO - Initializing boto3 client     :  EC2\n",
      "[2020-05-30 11:30:11 India Standard Time] - INFO - Fetching Running EC2 instance Details\n"
     ]
    },
    {
     "name": "stdout",
     "output_type": "stream",
     "text": [
      "\n",
      "\n"
     ]
    },
    {
     "name": "stderr",
     "output_type": "stream",
     "text": [
      "[2020-05-30 11:30:12 India Standard Time] - WARNING - No instance is in Running State\n",
      "[2020-05-30 11:30:12 India Standard Time] - WARNING - # Lambda Function status   : None #\n",
      "\n",
      "\n",
      "[2020-05-30 11:30:12 India Standard Time] - INFO - # End of EC2 Stop Activity #\n"
     ]
    }
   ],
   "source": [
    "'''Instances in stopped state'''\n",
    "stop_instance(None, None)"
   ]
  },
  {
   "cell_type": "markdown",
   "metadata": {},
   "source": [
    "# EC2 Snapshots Deletion"
   ]
  },
  {
   "cell_type": "code",
   "execution_count": 1,
   "metadata": {
    "ExecuteTime": {
     "end_time": "2020-05-30T05:33:48.367527Z",
     "start_time": "2020-05-30T05:33:48.317524Z"
    },
    "scrolled": false
   },
   "outputs": [
    {
     "name": "stdout",
     "output_type": "stream",
     "text": [
      "env: region=ap-south-1\n",
      "env: tolerated_days=0\n"
     ]
    }
   ],
   "source": [
    "'''Load Environment Variables'''\n",
    "%env region         = ap-south-1\n",
    "%env tolerated_days = 0"
   ]
  },
  {
   "cell_type": "code",
   "execution_count": 2,
   "metadata": {
    "ExecuteTime": {
     "end_time": "2020-05-30T05:33:48.835554Z",
     "start_time": "2020-05-30T05:33:48.828553Z"
    }
   },
   "outputs": [],
   "source": [
    "import logging"
   ]
  },
  {
   "cell_type": "code",
   "execution_count": 7,
   "metadata": {
    "ExecuteTime": {
     "end_time": "2020-05-30T05:47:37.751864Z",
     "start_time": "2020-05-30T05:47:37.700861Z"
    }
   },
   "outputs": [
    {
     "name": "stderr",
     "output_type": "stream",
     "text": [
      "[2020-05-30 11:17:37 India Standard Time] - INFO - Today\"s Date                : 2020-05-30 11:17:37.743864+05:30\n"
     ]
    }
   ],
   "source": [
    "#!/usr/bin/python\n",
    "'''\n",
    "References:\n",
    "1) JSON Role Policy : lambda_deployer_role : https://marcelog.github.io/articles/aws_lambda_start_stop_ec2_instance.html\n",
    "2) Logging Hadler   : Re-Invent            : https://gist.github.com/niranjv/fb95e716151642e8ca553b0e38dd152e\n",
    "3) Lambda Issue VPC : Can't connect to ISP : https://docs.aws.amazon.com/lambda/latest/dg/configuration-vpc.html#vpc-internet\n",
    "4) Date Time Ex     : Examples             : https://www.techatbloomberg.com/blog/work-dates-time-python/\n",
    "5) Snapshot Ex      : Example Program      : https://gist.github.com/nirbhabbarat/047059f87138e04b2fe83bf678161fff\n",
    "6) Snapshot Ex      : Example Program      : https://gist.github.com/kjoconnor/7344485\n",
    "6) Snapshot Ex      : Example Program      : https://stackoverflow.com/questions/48124269/python-boto3-program-to-delete-old-snapshots-in-aws\n",
    "'''\n",
    "import os\n",
    "import sys\n",
    "import time\n",
    "import json\n",
    "import boto3\n",
    "import datetime\n",
    "import pytz\n",
    "from dateutil.tz import tzutc\n",
    "from dateutil.tz import gettz\n",
    "\n",
    "'''importing custom modules'''\n",
    "'''Setting Up Lambda logger'''\n",
    "# sys.path.append(os.path.dirname(os.path.realpath(__file__)) + '/pySetenv/variables/' )\n",
    "# sys.path.append(os.path.dirname(os.path.realpath(__file__)) + '/pySetenv/packages/'  )\n",
    "\n",
    "# import lambda_logger\n",
    "# logger = lambda_logger.setup_lambda_logger()\n",
    "\n",
    "'''Jupyter Notebook - Log file'''\n",
    "# sys.path.append(os.path.dirname('C:\\\\Users\\\\Vignesh_Palanivel\\\\Google Drive\\\\Jupyter Notebooks\\\\pySetenv\\\\'))\n",
    "# print (sys.path)\n",
    "\n",
    "# import logger\n",
    "# execLogger  = 'rti-upload-download' + time.strftime('-%Y-%m-%d-%Hh-%Mm-%Ss-%Z') + '.log'\n",
    "# logger      = logger.setupLogger('Stop Instances Logger', execLogger)\n",
    "'''Jupyter Notebook - Stream'''\n",
    "logger = logging.getLogger()\n",
    "logger.setLevel(logging.INFO)\n",
    "logging.basicConfig(format='[%(asctime)s] - %(levelname)s - %(message)s', datefmt='%Y-%m-%d %H:%M:%S %Z')\n",
    "\n",
    "'''Defining Global Variables'''\n",
    "ss_in_24hrs     = []\n",
    "ss_in_5days     = []\n",
    "ss_recent       = []\n",
    "ss_id_deleted   = []\n",
    "today_date      = datetime.datetime.now(datetime.timezone.utc).astimezone(gettz(\"Asia/Kolkata\"))\n",
    "logger.info('Today\"s Date                : {}'.format(today_date))\n",
    "\n",
    "def json_serial(dt_object):\n",
    "    '''\n",
    "    Function to convert the datatime object to string object(ios format)\n",
    "    \n",
    "    Arguments:\n",
    "        dt_object (dataetime) : Datetime object \n",
    "    Returns:\n",
    "        iso format datetime(String)\n",
    "    '''\n",
    "    if isinstance(dt_object, (datetime.date, datetime.datetime)):\n",
    "        return dt_object.isoformat()\n",
    "\n",
    "def future_calculations(snapshot, tolerated_days):\n",
    "    '''\n",
    "    Function to calculate the future snapshot deletion dates and intimate accordingly\n",
    "    \n",
    "    Arguments:\n",
    "        \n",
    "    Returns:\n",
    "        \n",
    "    '''\n",
    "    today_date      = today_date.date()\n",
    "    ss_created_date = snapshot['StartTime'].astimezone(gettz(\"Asia/Kolkata\")).date()\n",
    "    \n",
    "    snapshot_id     = snapshot['SnapshotId']\n",
    "    delete          = False\n",
    "    \n",
    "    days_old        = abs((ss_created_date - today_date).days)\n",
    "    \n",
    "    if days_old == tolerated_days:\n",
    "        delete = True\n",
    "    elif days_old == (tolerated_days - 1):\n",
    "        ss_in_24hrs.append(snapshot_id)\n",
    "    elif days_old >= (tolerated_days - 5) and days_old < (tolerated_days - 1):\n",
    "        ss_in_5days.append(snapshot_id)\n",
    "    else:\n",
    "        ss_recent.append(snapshot_id)\n",
    "    \n",
    "    return delete\n",
    "    \n",
    "''' Main Function'''\n",
    "def snapshots_cleanup(event, lambda_context):\n",
    "    '''\n",
    "    Function to cleanup the Ec2 snapshots older than X Days\n",
    "    \n",
    "    Arguments:\n",
    "        event          (None) : No Events Required\n",
    "        lambda_context (None) : No Context Required\n",
    "    Returns:\n",
    "        Deleting the snapshots ids reveived from he function describe_snapshots\n",
    "    \n",
    "    Calling Function:\n",
    "        describe_snapshots (To get the list of filtered snapshots)\n",
    "        json_serial       (to process output from describe_snapshots)\n",
    "    '''\n",
    "    \n",
    "    '''Reading Environment Variables'''\n",
    "    # logger.info('ENVIRONMENT VARIABLES')\n",
    "    # logger.info(os.environ)\n",
    "    region         = os.environ['region']\n",
    "    tolerated_days = int(os.environ['tolerated_days'])\n",
    "    logger.info('ENV - Region                : {}'.format(region))\n",
    "    logger.info('ENV - Tolerated Days        : {}'.format(tolerated_days))\n",
    "    \n",
    "\n",
    "    '''Initializing all necessory variables'''\n",
    "    print('\\n')\n",
    "    logger.info('Initializing boto3 client   :  EC2')\n",
    "    logger.info('Initializing boto3 client   :  STS')\n",
    "    ec2_client      = boto3.client('ec2', region_name=region)\n",
    "    sts_client      = boto3.client('sts', region_name=region)\n",
    "    \n",
    "    logger.info('Describing all the EC2 Snapshots')\n",
    "    ss_paginator    = ec2_client.get_paginator('describe_snapshots')\n",
    "    ss_filters      = [{ 'Name': 'tag:Team', 'Values': ['terraform-services-india']}]\n",
    "    account_id      = sts_client.get_caller_identity()[\"Account\"]\n",
    "    \n",
    "    ss_page_iterator = ss_paginator.paginate(\n",
    "        Filters          = ss_filters,\n",
    "        OwnerIds         = [account_id], #'self'\n",
    "        PaginationConfig = {'PageSize': 200}\n",
    "    )\n",
    "    \n",
    "    logger.info('Calculating Snapshots age  ...')\n",
    "    # print(ss_page_iterator)\n",
    "    for page in ss_page_iterator:\n",
    "        # print(json.dumps(page, indent=4, separators=(',', ': '), default=json_serial))\n",
    "        for snapshot in page['Snapshots']:\n",
    "            # print(json.dumps(snapshot, indent=4, separators=(',', ': '), default=json_serial))\n",
    "            # ss_created_date = dateutil.parser.parse(str(snapshot['StartTime'].date())))\n",
    "            \n",
    "            action      = future_calculations(snapshot, tolerated_days)\n",
    "            \n",
    "            if action:\n",
    "                snapshot_id = snapshot['SnapshotId']\n",
    "                try:\n",
    "                    dry_run = True\n",
    "                    ec2_client.delete_snapshot(SnapshotId=snapshot_id, DryRun=dry_run)\n",
    "                except Exception as Error_Msg:\n",
    "                    dry_run = False\n",
    "                    if 'DryRunOperation' in str(Error_Msg):\n",
    "                        result = ec2_client.delete_snapshot(SnapshotId=snapshot_id, DryRun=dry_run)\n",
    "                        if result['ResponseMetadata']['HTTPStatusCode'] == 200:\n",
    "                            logger.info('Successfully Deleted SS    : {}'.format(snapshot_id))\n",
    "                    elif 'InvalidSnapshot.InUse' in str(Error_Msg):\n",
    "                        logger.warning('Snapshot In-Use skipping   : {}'.format(snapshot_id))\n",
    "                        continue\n",
    "                    else:\n",
    "                        logger.error('Couldn\"t Delete Snapshot   : {}'.format(snapshot_id))\n",
    "                finally:\n",
    "                    ss_id_deleted.append(snapshot_id)\n",
    "    \n",
    "    logger.info('Snapshot Report as Follows...\\n')\n",
    "    if ss_id_deleted:\n",
    "        logger.info('Snapshots Deleted Now      : {}'.format(len(ss_id_deleted)))\n",
    "    else:\n",
    "        logger.info('Snapshots Breached         : None')\n",
    "    \n",
    "    if ss_in_24hrs:\n",
    "        logger.info('Snapshots in Tolerated     : {}'.format(len(ss_in_24hrs)))\n",
    "    else:\n",
    "        logger.info('Snapshots in Tolerated     : None')\n",
    "    \n",
    "    if ss_in_5days:\n",
    "        logger.info('Snapshots in Queue         : {}'.format(len(ss_in_5days)))\n",
    "    else:\n",
    "        logger.info('Snapshots in Queue         : None')\n",
    "        \n",
    "    if ss_recent:\n",
    "        logger.info('Snapshots in Recent        : {}'.format(len(ss_recent)))\n",
    "    else:\n",
    "        logger.info('Snapshots in Recent        : None\\n')\n",
    "    \n",
    "    logger.info('# End of EC2 Snapshots Clean-Up Activity #')"
   ]
  },
  {
   "cell_type": "code",
   "execution_count": 104,
   "metadata": {
    "ExecuteTime": {
     "end_time": "2020-05-26T16:17:25.001260Z",
     "start_time": "2020-05-26T16:17:22.866626Z"
    }
   },
   "outputs": [
    {
     "name": "stderr",
     "output_type": "stream",
     "text": [
      "[2020-05-26 21:47:23 India Standard Time] - INFO - ENV - Region                : ap-south-1\n",
      "[2020-05-26 21:47:23 India Standard Time] - INFO - ENV - Tolerated Days        : 15\n",
      "[2020-05-26 21:47:23 India Standard Time] - INFO - Initializing boto3 client   :  EC2\n",
      "[2020-05-26 21:47:23 India Standard Time] - INFO - Initializing boto3 client   :  STS\n",
      "[2020-05-26 21:47:23 India Standard Time] - INFO - Describing all the EC2 Snapshots\n"
     ]
    },
    {
     "name": "stdout",
     "output_type": "stream",
     "text": [
      "\n",
      "\n"
     ]
    },
    {
     "name": "stderr",
     "output_type": "stream",
     "text": [
      "[2020-05-26 21:47:24 India Standard Time] - INFO - Calculating Snapshots age  ...\n",
      "[2020-05-26 21:47:24 India Standard Time] - INFO - Completed calculations   !!!\n",
      "\n",
      "[2020-05-26 21:47:24 India Standard Time] - INFO - Snapshots Breached         : None\n",
      "[2020-05-26 21:47:24 India Standard Time] - INFO - Snapshots in Tolerated     : None\n",
      "[2020-05-26 21:47:24 India Standard Time] - INFO - Snapshots in Queue         : None\n",
      "[2020-05-26 21:47:24 India Standard Time] - INFO - Snapshots in Recent        : 2\n",
      "[2020-05-26 21:47:24 India Standard Time] - INFO - # End of EC2 Snapshots Clean-Up Activity\n"
     ]
    }
   ],
   "source": [
    "'''Snapshot in Recent'''\n",
    "snapshots_cleanup(None, None)"
   ]
  },
  {
   "cell_type": "code",
   "execution_count": 112,
   "metadata": {
    "ExecuteTime": {
     "end_time": "2020-05-26T16:48:49.713863Z",
     "start_time": "2020-05-26T16:48:46.559002Z"
    }
   },
   "outputs": [
    {
     "name": "stderr",
     "output_type": "stream",
     "text": [
      "[2020-05-26 22:18:46 India Standard Time] - INFO - ENV - Region                : ap-south-1\n",
      "[2020-05-26 22:18:46 India Standard Time] - INFO - ENV - Tolerated Days        : 2\n",
      "[2020-05-26 22:18:46 India Standard Time] - INFO - Initializing boto3 client   :  EC2\n",
      "[2020-05-26 22:18:46 India Standard Time] - INFO - Initializing boto3 client   :  STS\n",
      "[2020-05-26 22:18:46 India Standard Time] - INFO - Describing all the EC2 Snapshots\n"
     ]
    },
    {
     "name": "stdout",
     "output_type": "stream",
     "text": [
      "\n",
      "\n"
     ]
    },
    {
     "name": "stderr",
     "output_type": "stream",
     "text": [
      "[2020-05-26 22:18:49 India Standard Time] - INFO - Calculating Snapshots age  ...\n",
      "[2020-05-26 22:18:49 India Standard Time] - INFO - Completed calculations   !!!\n",
      "\n",
      "[2020-05-26 22:18:49 India Standard Time] - INFO - Snapshots Breached         : None\n",
      "[2020-05-26 22:18:49 India Standard Time] - INFO - Snapshots in Tolerated     : None\n",
      "[2020-05-26 22:18:49 India Standard Time] - INFO - Snapshots in Queue         : 2\n",
      "[2020-05-26 22:18:49 India Standard Time] - INFO - Snapshots in Recent        : None\n",
      "\n",
      "[2020-05-26 22:18:49 India Standard Time] - INFO - # End of EC2 Snapshots Clean-Up Activity\n"
     ]
    }
   ],
   "source": [
    "'''Snapshot in Queue'''\n",
    "snapshots_cleanup(None, None)"
   ]
  },
  {
   "cell_type": "code",
   "execution_count": 108,
   "metadata": {
    "ExecuteTime": {
     "end_time": "2020-05-26T16:17:56.264305Z",
     "start_time": "2020-05-26T16:17:52.272646Z"
    }
   },
   "outputs": [
    {
     "name": "stderr",
     "output_type": "stream",
     "text": [
      "[2020-05-26 21:47:52 India Standard Time] - INFO - ENV - Region                : ap-south-1\n",
      "[2020-05-26 21:47:52 India Standard Time] - INFO - ENV - Tolerated Days        : 1\n",
      "[2020-05-26 21:47:52 India Standard Time] - INFO - Initializing boto3 client   :  EC2\n",
      "[2020-05-26 21:47:52 India Standard Time] - INFO - Initializing boto3 client   :  STS\n",
      "[2020-05-26 21:47:52 India Standard Time] - INFO - Describing all the EC2 Snapshots\n"
     ]
    },
    {
     "name": "stdout",
     "output_type": "stream",
     "text": [
      "\n",
      "\n"
     ]
    },
    {
     "name": "stderr",
     "output_type": "stream",
     "text": [
      "[2020-05-26 21:47:53 India Standard Time] - INFO - Calculating Snapshots age  ...\n",
      "[2020-05-26 21:47:56 India Standard Time] - INFO - Completed calculations   !!!\n",
      "\n",
      "[2020-05-26 21:47:56 India Standard Time] - INFO - Snapshots Breached         : None\n",
      "[2020-05-26 21:47:56 India Standard Time] - INFO - Snapshots Deleted in 24hrs : 2\n",
      "[2020-05-26 21:47:56 India Standard Time] - INFO - Snapshots in Queue         : None\n",
      "[2020-05-26 21:47:56 India Standard Time] - INFO - Snapshots in Recent        : None\n",
      "\n",
      "[2020-05-26 21:47:56 India Standard Time] - INFO - # End of EC2 Snapshots Clean-Up Activity\n"
     ]
    }
   ],
   "source": [
    "'''Snapshot in Tolerated'''\n",
    "snapshots_cleanup(None, None)"
   ]
  },
  {
   "cell_type": "code",
   "execution_count": 6,
   "metadata": {
    "ExecuteTime": {
     "end_time": "2020-05-26T17:09:12.946579Z",
     "start_time": "2020-05-26T17:09:05.454699Z"
    }
   },
   "outputs": [
    {
     "name": "stderr",
     "output_type": "stream",
     "text": [
      "[2020-05-26 22:39:05 India Standard Time] - INFO - ENV - Region                : ap-south-1\n",
      "[2020-05-26 22:39:05 India Standard Time] - INFO - ENV - Tolerated Days        : 0\n",
      "[2020-05-26 22:39:05 India Standard Time] - INFO - Initializing boto3 client   :  EC2\n",
      "[2020-05-26 22:39:05 India Standard Time] - INFO - Initializing boto3 client   :  STS\n",
      "[2020-05-26 22:39:05 India Standard Time] - INFO - Found credentials in shared credentials file: ~/.aws/credentials\n"
     ]
    },
    {
     "name": "stdout",
     "output_type": "stream",
     "text": [
      "\n",
      "\n"
     ]
    },
    {
     "name": "stderr",
     "output_type": "stream",
     "text": [
      "[2020-05-26 22:39:05 India Standard Time] - INFO - Describing all the EC2 Snapshots\n",
      "[2020-05-26 22:39:09 India Standard Time] - INFO - Calculating Snapshots age  ...\n",
      "[2020-05-26 22:39:11 India Standard Time] - INFO - Successfully Deleted SS    : snap-06944cffc53d0e1de\n",
      "[2020-05-26 22:39:12 India Standard Time] - INFO - Successfully Deleted SS    : snap-05536c5dd1a6a6d3a\n",
      "[2020-05-26 22:39:12 India Standard Time] - INFO - Snapshot Report as Follows..\n",
      "\n",
      "[2020-05-26 22:39:12 India Standard Time] - INFO - Snapshots Deleted Now      : 2\n",
      "[2020-05-26 22:39:12 India Standard Time] - INFO - Snapshots in Tolerated     : None\n",
      "[2020-05-26 22:39:12 India Standard Time] - INFO - Snapshots in Queue         : None\n",
      "[2020-05-26 22:39:12 India Standard Time] - INFO - Snapshots in Recent        : None\n",
      "\n",
      "[2020-05-26 22:39:12 India Standard Time] - INFO - # End of EC2 Snapshots Clean-Up Activity\n"
     ]
    }
   ],
   "source": [
    "'''Snapshot in Breached'''\n",
    "snapshots_cleanup(None, None)"
   ]
  }
 ],
 "metadata": {
  "kernelspec": {
   "display_name": "Python 3",
   "language": "python",
   "name": "python3"
  },
  "language_info": {
   "codemirror_mode": {
    "name": "ipython",
    "version": 3
   },
   "file_extension": ".py",
   "mimetype": "text/x-python",
   "name": "python",
   "nbconvert_exporter": "python",
   "pygments_lexer": "ipython3",
   "version": "3.7.7"
  },
  "latex_envs": {
   "LaTeX_envs_menu_present": true,
   "autoclose": true,
   "autocomplete": true,
   "bibliofile": "biblio.bib",
   "cite_by": "apalike",
   "current_citInitial": 1,
   "eqLabelWithNumbers": true,
   "eqNumInitial": 1,
   "hotkeys": {
    "equation": "Ctrl-E",
    "itemize": "Ctrl-I"
   },
   "labels_anchors": false,
   "latex_user_defs": false,
   "report_style_numbering": true,
   "user_envs_cfg": false
  },
  "toc": {
   "base_numbering": 1,
   "nav_menu": {},
   "number_sections": true,
   "sideBar": true,
   "skip_h1_title": false,
   "title_cell": "Table of Contents",
   "title_sidebar": "Contents",
   "toc_cell": true,
   "toc_position": {
    "height": "calc(100% - 180px)",
    "left": "10px",
    "top": "150px",
    "width": "222.969px"
   },
   "toc_section_display": true,
   "toc_window_display": true
  }
 },
 "nbformat": 4,
 "nbformat_minor": 4
}
